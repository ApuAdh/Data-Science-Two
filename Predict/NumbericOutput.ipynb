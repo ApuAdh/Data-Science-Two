{
 "cells": [
  {
   "cell_type": "markdown",
   "metadata": {},
   "source": [
    "Polynomial Regression should be used to predict how much time will be spent in a taxi"
   ]
  },
  {
   "cell_type": "code",
   "execution_count": null,
   "metadata": {},
   "outputs": [],
   "source": []
  }
 ],
 "metadata": {
  "language_info": {
   "name": "python"
  }
 },
 "nbformat": 4,
 "nbformat_minor": 2
}
